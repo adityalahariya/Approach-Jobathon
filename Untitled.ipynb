{
 "cells": [
  {
   "cell_type": "code",
   "execution_count": 66,
   "id": "29930751",
   "metadata": {},
   "outputs": [],
   "source": [
    "import numpy as np\n",
    "import pandas as pd\n",
    "import matplotlib.pyplot as plt\n",
    "%matplotlib inline\n",
    "import seaborn as sns\n",
    "from sklearn.linear_model import LogisticRegression\n",
    "from sklearn.svm import SVC\n",
    "from sklearn.ensemble import RandomForestClassifier\n",
    "from sklearn.tree import DecisionTreeClassifier\n",
    "from xgboost import XGBClassifier\n",
    "from sklearn.preprocessing import StandardScaler\n",
    "from sklearn.metrics import f1_score,accuracy_score\n",
    "from sklearn.model_selection import train_test_split"
   ]
  },
  {
   "cell_type": "code",
   "execution_count": 477,
   "id": "3b7440b6",
   "metadata": {},
   "outputs": [],
   "source": [
    "data = pd.read_csv('train.csv')"
   ]
  },
  {
   "cell_type": "code",
   "execution_count": 267,
   "id": "0f482cec",
   "metadata": {},
   "outputs": [
    {
     "data": {
      "text/plain": [
       "0    37163\n",
       "1     1998\n",
       "Name: buy, dtype: int64"
      ]
     },
     "execution_count": 267,
     "metadata": {},
     "output_type": "execute_result"
    }
   ],
   "source": [
    "data['buy'].value_counts() ##data imbalance"
   ]
  },
  {
   "cell_type": "code",
   "execution_count": 307,
   "id": "0228263b",
   "metadata": {},
   "outputs": [],
   "source": [
    "#data.groupby(['created_at','signup_date'])['products_purchased'].mean()"
   ]
  },
  {
   "cell_type": "code",
   "execution_count": 195,
   "id": "5eb89b67",
   "metadata": {
    "collapsed": true
   },
   "outputs": [
    {
     "data": {
      "text/html": [
       "<div>\n",
       "<style scoped>\n",
       "    .dataframe tbody tr th:only-of-type {\n",
       "        vertical-align: middle;\n",
       "    }\n",
       "\n",
       "    .dataframe tbody tr th {\n",
       "        vertical-align: top;\n",
       "    }\n",
       "\n",
       "    .dataframe thead th {\n",
       "        text-align: right;\n",
       "    }\n",
       "</style>\n",
       "<table border=\"1\" class=\"dataframe\">\n",
       "  <thead>\n",
       "    <tr style=\"text-align: right;\">\n",
       "      <th></th>\n",
       "      <th>id</th>\n",
       "      <th>created_at</th>\n",
       "      <th>campaign_var_1</th>\n",
       "      <th>campaign_var_2</th>\n",
       "      <th>products_purchased</th>\n",
       "      <th>signup_date</th>\n",
       "      <th>user_activity_var_1</th>\n",
       "      <th>user_activity_var_2</th>\n",
       "      <th>user_activity_var_3</th>\n",
       "      <th>user_activity_var_4</th>\n",
       "      <th>user_activity_var_5</th>\n",
       "      <th>user_activity_var_6</th>\n",
       "      <th>user_activity_var_7</th>\n",
       "      <th>user_activity_var_8</th>\n",
       "      <th>user_activity_var_9</th>\n",
       "      <th>user_activity_var_10</th>\n",
       "      <th>user_activity_var_11</th>\n",
       "      <th>user_activity_var_12</th>\n",
       "      <th>buy</th>\n",
       "    </tr>\n",
       "  </thead>\n",
       "  <tbody>\n",
       "    <tr>\n",
       "      <th>0</th>\n",
       "      <td>1</td>\n",
       "      <td>2021-01-01</td>\n",
       "      <td>1</td>\n",
       "      <td>2</td>\n",
       "      <td>2.0</td>\n",
       "      <td>2020-09-24</td>\n",
       "      <td>0</td>\n",
       "      <td>0</td>\n",
       "      <td>0</td>\n",
       "      <td>0</td>\n",
       "      <td>0</td>\n",
       "      <td>0</td>\n",
       "      <td>1</td>\n",
       "      <td>1</td>\n",
       "      <td>0</td>\n",
       "      <td>0</td>\n",
       "      <td>0</td>\n",
       "      <td>0</td>\n",
       "      <td>0</td>\n",
       "    </tr>\n",
       "    <tr>\n",
       "      <th>1</th>\n",
       "      <td>2</td>\n",
       "      <td>2021-01-01</td>\n",
       "      <td>2</td>\n",
       "      <td>1</td>\n",
       "      <td>2.0</td>\n",
       "      <td>2020-09-19</td>\n",
       "      <td>1</td>\n",
       "      <td>0</td>\n",
       "      <td>1</td>\n",
       "      <td>0</td>\n",
       "      <td>0</td>\n",
       "      <td>0</td>\n",
       "      <td>1</td>\n",
       "      <td>0</td>\n",
       "      <td>0</td>\n",
       "      <td>0</td>\n",
       "      <td>0</td>\n",
       "      <td>0</td>\n",
       "      <td>0</td>\n",
       "    </tr>\n",
       "    <tr>\n",
       "      <th>2</th>\n",
       "      <td>3</td>\n",
       "      <td>2021-01-01</td>\n",
       "      <td>9</td>\n",
       "      <td>3</td>\n",
       "      <td>3.0</td>\n",
       "      <td>2021-08-11</td>\n",
       "      <td>1</td>\n",
       "      <td>0</td>\n",
       "      <td>0</td>\n",
       "      <td>0</td>\n",
       "      <td>0</td>\n",
       "      <td>0</td>\n",
       "      <td>0</td>\n",
       "      <td>0</td>\n",
       "      <td>0</td>\n",
       "      <td>0</td>\n",
       "      <td>0</td>\n",
       "      <td>0</td>\n",
       "      <td>0</td>\n",
       "    </tr>\n",
       "    <tr>\n",
       "      <th>3</th>\n",
       "      <td>4</td>\n",
       "      <td>2021-01-01</td>\n",
       "      <td>6</td>\n",
       "      <td>7</td>\n",
       "      <td>2.0</td>\n",
       "      <td>2017-10-04</td>\n",
       "      <td>0</td>\n",
       "      <td>0</td>\n",
       "      <td>0</td>\n",
       "      <td>0</td>\n",
       "      <td>0</td>\n",
       "      <td>0</td>\n",
       "      <td>0</td>\n",
       "      <td>0</td>\n",
       "      <td>0</td>\n",
       "      <td>0</td>\n",
       "      <td>0</td>\n",
       "      <td>0</td>\n",
       "      <td>0</td>\n",
       "    </tr>\n",
       "    <tr>\n",
       "      <th>4</th>\n",
       "      <td>5</td>\n",
       "      <td>2021-01-01</td>\n",
       "      <td>4</td>\n",
       "      <td>6</td>\n",
       "      <td>NaN</td>\n",
       "      <td>2020-06-08</td>\n",
       "      <td>0</td>\n",
       "      <td>0</td>\n",
       "      <td>0</td>\n",
       "      <td>0</td>\n",
       "      <td>0</td>\n",
       "      <td>0</td>\n",
       "      <td>1</td>\n",
       "      <td>0</td>\n",
       "      <td>0</td>\n",
       "      <td>0</td>\n",
       "      <td>1</td>\n",
       "      <td>0</td>\n",
       "      <td>0</td>\n",
       "    </tr>\n",
       "  </tbody>\n",
       "</table>\n",
       "</div>"
      ],
      "text/plain": [
       "   id  created_at  campaign_var_1  campaign_var_2  products_purchased  \\\n",
       "0   1  2021-01-01               1               2                 2.0   \n",
       "1   2  2021-01-01               2               1                 2.0   \n",
       "2   3  2021-01-01               9               3                 3.0   \n",
       "3   4  2021-01-01               6               7                 2.0   \n",
       "4   5  2021-01-01               4               6                 NaN   \n",
       "\n",
       "  signup_date  user_activity_var_1  user_activity_var_2  user_activity_var_3  \\\n",
       "0  2020-09-24                    0                    0                    0   \n",
       "1  2020-09-19                    1                    0                    1   \n",
       "2  2021-08-11                    1                    0                    0   \n",
       "3  2017-10-04                    0                    0                    0   \n",
       "4  2020-06-08                    0                    0                    0   \n",
       "\n",
       "   user_activity_var_4  user_activity_var_5  user_activity_var_6  \\\n",
       "0                    0                    0                    0   \n",
       "1                    0                    0                    0   \n",
       "2                    0                    0                    0   \n",
       "3                    0                    0                    0   \n",
       "4                    0                    0                    0   \n",
       "\n",
       "   user_activity_var_7  user_activity_var_8  user_activity_var_9  \\\n",
       "0                    1                    1                    0   \n",
       "1                    1                    0                    0   \n",
       "2                    0                    0                    0   \n",
       "3                    0                    0                    0   \n",
       "4                    1                    0                    0   \n",
       "\n",
       "   user_activity_var_10  user_activity_var_11  user_activity_var_12  buy  \n",
       "0                     0                     0                     0    0  \n",
       "1                     0                     0                     0    0  \n",
       "2                     0                     0                     0    0  \n",
       "3                     0                     0                     0    0  \n",
       "4                     0                     1                     0    0  "
      ]
     },
     "execution_count": 195,
     "metadata": {},
     "output_type": "execute_result"
    }
   ],
   "source": [
    "data.head()"
   ]
  },
  {
   "cell_type": "code",
   "execution_count": 474,
   "id": "e9d9f948",
   "metadata": {},
   "outputs": [
    {
     "name": "stdout",
     "output_type": "stream",
     "text": [
      "<class 'pandas.core.frame.DataFrame'>\n",
      "RangeIndex: 39161 entries, 0 to 39160\n",
      "Data columns (total 25 columns):\n",
      " #   Column                Non-Null Count  Dtype         \n",
      "---  ------                --------------  -----         \n",
      " 0   id                    39161 non-null  int64         \n",
      " 1   campaign_var_1        39161 non-null  int64         \n",
      " 2   campaign_var_2        39161 non-null  int64         \n",
      " 3   products_purchased    39161 non-null  float64       \n",
      " 4   signup_date           24048 non-null  datetime64[ns]\n",
      " 5   user_activity_var_1   39161 non-null  int64         \n",
      " 6   user_activity_var_2   39161 non-null  int64         \n",
      " 7   user_activity_var_3   39161 non-null  int64         \n",
      " 8   user_activity_var_4   39161 non-null  int64         \n",
      " 9   user_activity_var_5   39161 non-null  int64         \n",
      " 10  user_activity_var_6   39161 non-null  int64         \n",
      " 11  user_activity_var_7   39161 non-null  int64         \n",
      " 12  user_activity_var_8   39161 non-null  int64         \n",
      " 13  user_activity_var_9   39161 non-null  int64         \n",
      " 14  user_activity_var_10  39161 non-null  int64         \n",
      " 15  user_activity_var_11  39161 non-null  int64         \n",
      " 16  user_activity_var_12  39161 non-null  int64         \n",
      " 17  buy                   39161 non-null  int64         \n",
      " 18  signup_date_day       24048 non-null  float64       \n",
      " 19  signup_date_quarter   24048 non-null  float64       \n",
      " 20  signup_date_month     24048 non-null  float64       \n",
      " 21  created_at_month      39161 non-null  int64         \n",
      " 22  created_at_day        39161 non-null  int64         \n",
      " 23  created_at_quarter    39161 non-null  int64         \n",
      " 24  Is Weekend            39161 non-null  int32         \n",
      "dtypes: datetime64[ns](1), float64(4), int32(1), int64(19)\n",
      "memory usage: 7.3 MB\n"
     ]
    }
   ],
   "source": [
    "data.info()"
   ]
  },
  {
   "cell_type": "code",
   "execution_count": 478,
   "id": "8daf2076",
   "metadata": {},
   "outputs": [],
   "source": [
    "def transform(df):\n",
    "    df['created_at'] = pd.to_datetime(df['created_at'])\n",
    "    df['signup_date'] = pd.to_datetime(df['signup_date'])\n",
    "    ##dropping signup_date,id\n",
    "    #del df['signup_date']\n",
    "    #del df['id']\n",
    "    ##fill null values\n",
    "    df['signup_date_day'] = df['signup_date'].dt.day\n",
    "    df['signup_date_quarter'] = df['signup_date'].dt.quarter\n",
    "    df['signup_date_month'] = df['signup_date'].dt.month\n",
    "    #df['signup_date_day'].fillna(float(df['signup_date_day'].median()),inplace=True)\n",
    "    #df['signup_date_quarter'].fillna(float(df['signup_date_quarter'].mode()),inplace=True)\n",
    "    #df['signup_date_month'].fillna(float(df['signup_date_month'].mode()),inplace=True)\n",
    "    \n",
    "    df['products_purchased'].fillna(float(df['products_purchased'].mode()),inplace=True)\n",
    "    df['created_at_month'] = df['created_at'].dt.month\n",
    "    df['created_at_day'] = df['created_at'].dt.day\n",
    "    df['created_at_quarter'] = df['created_at'].dt.quarter\n",
    "    df[\"Is Weekend\"] = df['created_at'].dt.day_name().isin(['Saturday', 'Sunday'])\n",
    "    del df['created_at']\n",
    "    del df['signup_date']\n",
    "    df['Is Weekend'] = df['Is Weekend'].astype(int)\n",
    "    return df"
   ]
  },
  {
   "cell_type": "code",
   "execution_count": 479,
   "id": "24e06f18",
   "metadata": {},
   "outputs": [],
   "source": [
    "data = transform(data)"
   ]
  },
  {
   "cell_type": "code",
   "execution_count": 480,
   "id": "aa7c3fdd",
   "metadata": {},
   "outputs": [
    {
     "name": "stdout",
     "output_type": "stream",
     "text": [
      "<class 'pandas.core.frame.DataFrame'>\n",
      "RangeIndex: 39161 entries, 0 to 39160\n",
      "Data columns (total 24 columns):\n",
      " #   Column                Non-Null Count  Dtype  \n",
      "---  ------                --------------  -----  \n",
      " 0   id                    39161 non-null  int64  \n",
      " 1   campaign_var_1        39161 non-null  int64  \n",
      " 2   campaign_var_2        39161 non-null  int64  \n",
      " 3   products_purchased    39161 non-null  float64\n",
      " 4   user_activity_var_1   39161 non-null  int64  \n",
      " 5   user_activity_var_2   39161 non-null  int64  \n",
      " 6   user_activity_var_3   39161 non-null  int64  \n",
      " 7   user_activity_var_4   39161 non-null  int64  \n",
      " 8   user_activity_var_5   39161 non-null  int64  \n",
      " 9   user_activity_var_6   39161 non-null  int64  \n",
      " 10  user_activity_var_7   39161 non-null  int64  \n",
      " 11  user_activity_var_8   39161 non-null  int64  \n",
      " 12  user_activity_var_9   39161 non-null  int64  \n",
      " 13  user_activity_var_10  39161 non-null  int64  \n",
      " 14  user_activity_var_11  39161 non-null  int64  \n",
      " 15  user_activity_var_12  39161 non-null  int64  \n",
      " 16  buy                   39161 non-null  int64  \n",
      " 17  signup_date_day       24048 non-null  float64\n",
      " 18  signup_date_quarter   24048 non-null  float64\n",
      " 19  signup_date_month     24048 non-null  float64\n",
      " 20  created_at_month      39161 non-null  int64  \n",
      " 21  created_at_day        39161 non-null  int64  \n",
      " 22  created_at_quarter    39161 non-null  int64  \n",
      " 23  Is Weekend            39161 non-null  int32  \n",
      "dtypes: float64(4), int32(1), int64(19)\n",
      "memory usage: 7.0 MB\n"
     ]
    }
   ],
   "source": [
    "data.info()"
   ]
  },
  {
   "cell_type": "code",
   "execution_count": 481,
   "id": "185ed6b9",
   "metadata": {},
   "outputs": [],
   "source": [
    "columns = list(data.columns)\n",
    "columns.remove('buy')"
   ]
  },
  {
   "cell_type": "code",
   "execution_count": 482,
   "id": "2a12a866",
   "metadata": {},
   "outputs": [],
   "source": [
    "from sklearn.impute import KNNImputer\n",
    "knn = KNNImputer(n_neighbors=2, add_indicator=True)\n",
    "knn.fit(data[columns])\n",
    "impute_data = knn.transform(data[columns])"
   ]
  },
  {
   "cell_type": "code",
   "execution_count": 472,
   "id": "7faff857",
   "metadata": {},
   "outputs": [],
   "source": [
    "test_data = pd.read_csv('test.csv')"
   ]
  },
  {
   "cell_type": "code",
   "execution_count": 473,
   "id": "404a2302",
   "metadata": {},
   "outputs": [],
   "source": [
    "test_data_transformed = transform(test_data.copy())"
   ]
  },
  {
   "cell_type": "code",
   "execution_count": 461,
   "id": "8c541fbc",
   "metadata": {},
   "outputs": [],
   "source": [
    "from sklearn.impute import KNNImputer\n",
    "knn = KNNImputer(n_neighbors=2, add_indicator=True)\n",
    "knn.fit(test_data_transformed)\n",
    "impute_data_test = knn.transform(test_data_transformed)"
   ]
  },
  {
   "cell_type": "code",
   "execution_count": 395,
   "id": "062d1a1b",
   "metadata": {},
   "outputs": [],
   "source": [
    "columns = list(data.columns)\n",
    "columns.remove('buy')"
   ]
  },
  {
   "cell_type": "code",
   "execution_count": 396,
   "id": "3e480e4a",
   "metadata": {},
   "outputs": [],
   "source": [
    "X_train,X_test,y_train,y_test = train_test_split(data[columns],data['buy'],test_size=0.3)"
   ]
  },
  {
   "cell_type": "code",
   "execution_count": null,
   "id": "82734fcd",
   "metadata": {},
   "outputs": [],
   "source": []
  },
  {
   "cell_type": "markdown",
   "id": "93a7cf89",
   "metadata": {},
   "source": [
    "# Logistic regression"
   ]
  },
  {
   "cell_type": "code",
   "execution_count": 68,
   "id": "f7354994",
   "metadata": {},
   "outputs": [
    {
     "data": {
      "text/plain": [
       "LogisticRegression()"
      ]
     },
     "execution_count": 68,
     "metadata": {},
     "output_type": "execute_result"
    }
   ],
   "source": [
    "LR_model = LogisticRegression() ##as data imbalance LR wont work good\n",
    "scaler = StandardScaler()\n",
    "scaler.fit(X_train)\n",
    "X_train_scaled = scaler.transform(X_train)\n",
    "LR_model.fit(X_train_scaled,y_train)"
   ]
  },
  {
   "cell_type": "code",
   "execution_count": 101,
   "id": "a08e7993",
   "metadata": {
    "scrolled": true
   },
   "outputs": [
    {
     "name": "stdout",
     "output_type": "stream",
     "text": [
      "0.10658757976094185\n"
     ]
    }
   ],
   "source": [
    "X_test_scaled = scaler.transform(X_test)\n",
    "prediction = LR_model.predict_proba(X_test)\n",
    "pred = [1 if i>=0.0001 else 0 for i in prediction[:,1]]\n",
    "print(f1_score(list(y_test),pred))"
   ]
  },
  {
   "cell_type": "code",
   "execution_count": null,
   "id": "c038b0f9",
   "metadata": {},
   "outputs": [],
   "source": []
  },
  {
   "cell_type": "code",
   "execution_count": null,
   "id": "6875fbd2",
   "metadata": {},
   "outputs": [],
   "source": [
    "\n",
    "    "
   ]
  },
  {
   "cell_type": "markdown",
   "id": "7ce34817",
   "metadata": {},
   "source": [
    "# Decision Tree Classifier"
   ]
  },
  {
   "cell_type": "code",
   "execution_count": 373,
   "id": "cb66aaeb",
   "metadata": {},
   "outputs": [],
   "source": [
    "DT_model = DecisionTreeClassifier(max_depth=5,\n",
    "    min_samples_split=2,\n",
    "    min_samples_leaf=1)"
   ]
  },
  {
   "cell_type": "code",
   "execution_count": 371,
   "id": "2dcad6ed",
   "metadata": {},
   "outputs": [
    {
     "name": "stdout",
     "output_type": "stream",
     "text": [
      "0.6703296703296703\n"
     ]
    }
   ],
   "source": [
    "##checking accuracy with training data\n",
    "DT_model.fit(X_train,y_train)\n",
    "prediction = DT_model.predict(X_test)\n",
    "print(f1_score(list(y_test),prediction))"
   ]
  },
  {
   "cell_type": "code",
   "execution_count": 374,
   "id": "902091ed",
   "metadata": {},
   "outputs": [],
   "source": [
    "##generating output\n",
    "DT_model.fit(data[columns],data['buy'])\n",
    "prediction = DT_model.predict(test_data_transformed)"
   ]
  },
  {
   "cell_type": "code",
   "execution_count": 375,
   "id": "ebfc20c7",
   "metadata": {},
   "outputs": [],
   "source": [
    "out = pd.DataFrame({'id':test_data['id'],'buy':prediction})\n",
    "out.to_csv('DT_output.csv',index=False)"
   ]
  },
  {
   "cell_type": "markdown",
   "id": "2fa1a4e6",
   "metadata": {},
   "source": [
    "# SVC"
   ]
  },
  {
   "cell_type": "code",
   "execution_count": 147,
   "id": "66558d53",
   "metadata": {},
   "outputs": [],
   "source": [
    "svc = SVC()"
   ]
  },
  {
   "cell_type": "code",
   "execution_count": 121,
   "id": "be61dea9",
   "metadata": {
    "scrolled": true
   },
   "outputs": [
    {
     "name": "stdout",
     "output_type": "stream",
     "text": [
      "0.6214442013129103\n"
     ]
    }
   ],
   "source": [
    "##checking accuracy with training data\n",
    "svc.fit(X_train,y_train)\n",
    "prediction = svc.predict(X_test)\n",
    "print(f1_score(list(y_test),prediction))"
   ]
  },
  {
   "cell_type": "code",
   "execution_count": 148,
   "id": "170cf44a",
   "metadata": {},
   "outputs": [],
   "source": [
    "##generating output\n",
    "svc.fit(data[columns],data['buy'])\n",
    "prediction = svc.predict(test_data_transformed)"
   ]
  },
  {
   "cell_type": "code",
   "execution_count": 149,
   "id": "f96bc27e",
   "metadata": {},
   "outputs": [],
   "source": [
    "out = pd.DataFrame({'id':test_data['id'],'buy':prediction})\n",
    "out.to_csv('svc_output.csv',index=False)"
   ]
  },
  {
   "cell_type": "markdown",
   "id": "723716e3",
   "metadata": {},
   "source": [
    "# Random forest"
   ]
  },
  {
   "cell_type": "code",
   "execution_count": 426,
   "id": "3854d418",
   "metadata": {},
   "outputs": [],
   "source": [
    "RF = RandomForestClassifier(n_estimators=1000,n_jobs=-1,max_depth=6)"
   ]
  },
  {
   "cell_type": "code",
   "execution_count": 366,
   "id": "1b81ef7e",
   "metadata": {},
   "outputs": [
    {
     "name": "stdout",
     "output_type": "stream",
     "text": [
      "0.6755852842809364\n"
     ]
    }
   ],
   "source": [
    "##checking accuracy with training data\n",
    "RF.fit(X_train,y_train)\n",
    "prediction = RF.predict(X_test)\n",
    "print(f1_score(list(y_test),prediction))"
   ]
  },
  {
   "cell_type": "code",
   "execution_count": 427,
   "id": "38fcda26",
   "metadata": {},
   "outputs": [],
   "source": [
    "##generating output\n",
    "#RF.fit(data[columns],data['buy'])\n",
    "#prediction = RF.predict(test_data_transformed)\n",
    "RF.fit(impute_data,data['buy'])\n",
    "prediction = RF.predict(impute_data_test)"
   ]
  },
  {
   "cell_type": "code",
   "execution_count": 428,
   "id": "3819b858",
   "metadata": {},
   "outputs": [],
   "source": [
    "out = pd.DataFrame({'id':test_data['id'],'buy':prediction})\n",
    "out.to_csv('RF_output.csv',index=False)"
   ]
  },
  {
   "cell_type": "code",
   "execution_count": 429,
   "id": "d16f6835",
   "metadata": {},
   "outputs": [
    {
     "data": {
      "text/plain": [
       "[('id', 0.001586371131986896),\n",
       " ('campaign_var_1', 0.0040608791831343825),\n",
       " ('campaign_var_2', 0.004168129911039506),\n",
       " ('products_purchased', 0.0003123456175346271),\n",
       " ('user_activity_var_1', 0.001846851798358149),\n",
       " ('user_activity_var_2', 0.17348901232993658),\n",
       " ('user_activity_var_3', 0.00010398733975005248),\n",
       " ('user_activity_var_4', 0.22586954656852612),\n",
       " ('user_activity_var_5', 0.02832141007561811),\n",
       " ('user_activity_var_6', 0.000249196443601569),\n",
       " ('user_activity_var_7', 0.00044546479494422223),\n",
       " ('user_activity_var_8', 0.008266911099674921),\n",
       " ('user_activity_var_9', 0.31804268274619113),\n",
       " ('user_activity_var_10', 0.004258338851327184),\n",
       " ('user_activity_var_11', 0.16091117013640016),\n",
       " ('user_activity_var_12', 0.0029290502779856587),\n",
       " ('created_at_month', 0.0009147690821751204),\n",
       " ('created_at_day', 0.0004920477589345177),\n",
       " ('created_at_quarter', 0.0008820864977584719),\n",
       " ('Is Weekend', 0.0005375982331517182)]"
      ]
     },
     "execution_count": 429,
     "metadata": {},
     "output_type": "execute_result"
    }
   ],
   "source": [
    "list(zip(X_train.columns,RF.feature_importances_))"
   ]
  },
  {
   "cell_type": "markdown",
   "id": "4cc869a7",
   "metadata": {},
   "source": [
    "# XGBOOST"
   ]
  },
  {
   "cell_type": "code",
   "execution_count": 462,
   "id": "bdd12cd6",
   "metadata": {},
   "outputs": [],
   "source": [
    "XG = XGBClassifier(n_estimators=100,max_depth=6,learning_rate=0.1,n_jobs=-1,scale_pos_weight=0.7,)"
   ]
  },
  {
   "cell_type": "code",
   "execution_count": 398,
   "id": "fc396974",
   "metadata": {},
   "outputs": [
    {
     "name": "stdout",
     "output_type": "stream",
     "text": [
      "[23:23:55] WARNING: C:/Users/Administrator/workspace/xgboost-win64_release_1.5.1/src/learner.cc:1115: Starting in XGBoost 1.3.0, the default evaluation metric used with the objective 'binary:logistic' was changed from 'error' to 'logloss'. Explicitly set eval_metric if you'd like to restore the old behavior.\n",
      "0.6644664466446645\n"
     ]
    }
   ],
   "source": [
    "##checking accuracy with training data\n",
    "XG.fit(X_train,y_train)\n",
    "prediction = XG.predict(X_test)\n",
    "print(f1_score(list(y_test),prediction))"
   ]
  },
  {
   "cell_type": "code",
   "execution_count": 463,
   "id": "6d669b30",
   "metadata": {},
   "outputs": [
    {
     "name": "stderr",
     "output_type": "stream",
     "text": [
      "C:\\Users\\Aditya Lahariya\\anaconda3\\lib\\site-packages\\xgboost\\sklearn.py:1224: UserWarning: The use of label encoder in XGBClassifier is deprecated and will be removed in a future release. To remove this warning, do the following: 1) Pass option use_label_encoder=False when constructing XGBClassifier object; and 2) Encode your labels (y) as integers starting with 0, i.e. 0, 1, 2, ..., [num_class - 1].\n",
      "  warnings.warn(label_encoder_deprecation_msg, UserWarning)\n"
     ]
    },
    {
     "name": "stdout",
     "output_type": "stream",
     "text": [
      "[23:48:25] WARNING: C:/Users/Administrator/workspace/xgboost-win64_release_1.5.1/src/learner.cc:1115: Starting in XGBoost 1.3.0, the default evaluation metric used with the objective 'binary:logistic' was changed from 'error' to 'logloss'. Explicitly set eval_metric if you'd like to restore the old behavior.\n"
     ]
    }
   ],
   "source": [
    "##generating output\n",
    "#XG.fit(data[columns],data['buy'])\\\n",
    "#prediction = XG.predict(test_data_transformed)\n",
    "XG.fit(impute_data,data['buy'])\n",
    "prediction = XG.predict(impute_data_test)"
   ]
  },
  {
   "cell_type": "code",
   "execution_count": 464,
   "id": "c9cb41d3",
   "metadata": {},
   "outputs": [],
   "source": [
    "out = pd.DataFrame({'id':test_data['id'],'buy':prediction})\n",
    "out.to_csv('XG_output.csv',index=False)"
   ]
  },
  {
   "cell_type": "code",
   "execution_count": null,
   "id": "8c19c1ae",
   "metadata": {},
   "outputs": [],
   "source": []
  }
 ],
 "metadata": {
  "kernelspec": {
   "display_name": "Python 3 (ipykernel)",
   "language": "python",
   "name": "python3"
  },
  "language_info": {
   "codemirror_mode": {
    "name": "ipython",
    "version": 3
   },
   "file_extension": ".py",
   "mimetype": "text/x-python",
   "name": "python",
   "nbconvert_exporter": "python",
   "pygments_lexer": "ipython3",
   "version": "3.9.7"
  }
 },
 "nbformat": 4,
 "nbformat_minor": 5
}
